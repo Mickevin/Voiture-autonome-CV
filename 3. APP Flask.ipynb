{
 "cells": [
  {
   "cell_type": "code",
   "execution_count": null,
   "id": "d0ae62ed",
   "metadata": {},
   "outputs": [
    {
     "name": "stdout",
     "output_type": "stream",
     "text": [
      " * Serving Flask app '__main__' (lazy loading)\n",
      " * Environment: production\n",
      "\u001b[31m   WARNING: This is a development server. Do not use it in a production deployment.\u001b[0m\n",
      "\u001b[2m   Use a production WSGI server instead.\u001b[0m\n",
      " * Debug mode: off\n"
     ]
    },
    {
     "name": "stderr",
     "output_type": "stream",
     "text": [
      " * Running on http://127.0.0.1:5000/ (Press CTRL+C to quit)\n",
      "[2022-02-23 10:46:59,019] ERROR in app: Exception on / [GET]\n",
      "Traceback (most recent call last):\n",
      "  File \"/Users/kevinduranty/miniforge3/envs/p8/lib/python3.8/site-packages/flask/app.py\", line 2073, in wsgi_app\n",
      "    response = self.full_dispatch_request()\n",
      "  File \"/Users/kevinduranty/miniforge3/envs/p8/lib/python3.8/site-packages/flask/app.py\", line 1518, in full_dispatch_request\n",
      "    rv = self.handle_user_exception(e)\n",
      "  File \"/Users/kevinduranty/miniforge3/envs/p8/lib/python3.8/site-packages/flask/app.py\", line 1516, in full_dispatch_request\n",
      "    rv = self.dispatch_request()\n",
      "  File \"/Users/kevinduranty/miniforge3/envs/p8/lib/python3.8/site-packages/flask/app.py\", line 1502, in dispatch_request\n",
      "    return self.ensure_sync(self.view_functions[rule.endpoint])(**req.view_args)\n",
      "  File \"/var/folders/pd/d9xkkvws5r5f_x34lthx34ph0000gn/T/ipykernel_36089/2396307854.py\", line 23, in california_index\n",
      "    return render_template(\"./app/templates/index.html\")\n",
      "  File \"/Users/kevinduranty/miniforge3/envs/p8/lib/python3.8/site-packages/flask/templating.py\", line 148, in render_template\n",
      "    ctx.app.jinja_env.get_or_select_template(template_name_or_list),\n",
      "  File \"/Users/kevinduranty/miniforge3/envs/p8/lib/python3.8/site-packages/jinja2/environment.py\", line 1068, in get_or_select_template\n",
      "    return self.get_template(template_name_or_list, parent, globals)\n",
      "  File \"/Users/kevinduranty/miniforge3/envs/p8/lib/python3.8/site-packages/jinja2/environment.py\", line 997, in get_template\n",
      "    return self._load_template(name, globals)\n",
      "  File \"/Users/kevinduranty/miniforge3/envs/p8/lib/python3.8/site-packages/jinja2/environment.py\", line 958, in _load_template\n",
      "    template = self.loader.load(self, name, self.make_globals(globals))\n",
      "  File \"/Users/kevinduranty/miniforge3/envs/p8/lib/python3.8/site-packages/jinja2/loaders.py\", line 125, in load\n",
      "    source, filename, uptodate = self.get_source(environment, name)\n",
      "  File \"/Users/kevinduranty/miniforge3/envs/p8/lib/python3.8/site-packages/flask/templating.py\", line 59, in get_source\n",
      "    return self._get_source_fast(environment, template)\n",
      "  File \"/Users/kevinduranty/miniforge3/envs/p8/lib/python3.8/site-packages/flask/templating.py\", line 95, in _get_source_fast\n",
      "    raise TemplateNotFound(template)\n",
      "jinja2.exceptions.TemplateNotFound: ./app/templates/index.html\n",
      "127.0.0.1 - - [23/Feb/2022 10:46:59] \"\u001b[35m\u001b[1mGET / HTTP/1.1\u001b[0m\" 500 -\n"
     ]
    }
   ],
   "source": [
    "from flask import Flask, render_template, request\n",
    "from tensorflow.keras.models import load_model\n",
    "import matplotlib.pyplot as plt\n",
    "import numpy as np\n",
    "import requests\n",
    "import cv2\n",
    "\n",
    "\n",
    "model = load_model('my_vgg_unet/')\n",
    "app = Flask(__name__)\n",
    "\n",
    "\n",
    "def save_pred(path):\n",
    "    img = cv2.imread(f'../data/{path}_leftImg8bit.png')\n",
    "    plt.imsave('./static/origine.png',img)\n",
    "    y = model.predict(np.array([img]))[0]\n",
    "    y = np.array([i.argmax() for i in y])*100\n",
    "    plt.imsave('./static/pred.png',y.reshape((512,1024)))\n",
    "\n",
    "\n",
    "@app.route('/', methods=['GET'])\n",
    "def california_index():\n",
    "    return render_template(\"./app/templates/index.html\")\n",
    "\n",
    "\n",
    "@app.route('/predict/', methods=['POST'])\n",
    "def result():\n",
    "    if request.method == 'POST':\n",
    "                 name_img = request.form['name_img']\n",
    "                 save_pred(name_img)\n",
    "        \n",
    "    return render_template(\"./app/templates/prediction.html\", name_img=name_img)\n",
    "\n",
    "if __name__ == '__main__':\n",
    "    app.run()"
   ]
  },
  {
   "cell_type": "code",
   "execution_count": null,
   "id": "a9b6c480",
   "metadata": {},
   "outputs": [],
   "source": [
    "'./app/'"
   ]
  }
 ],
 "metadata": {
  "kernelspec": {
   "display_name": "Python 3 (ipykernel)",
   "language": "python",
   "name": "python3"
  },
  "language_info": {
   "codemirror_mode": {
    "name": "ipython",
    "version": 3
   },
   "file_extension": ".py",
   "mimetype": "text/x-python",
   "name": "python",
   "nbconvert_exporter": "python",
   "pygments_lexer": "ipython3",
   "version": "3.8.12"
  },
  "toc": {
   "base_numbering": 1,
   "nav_menu": {},
   "number_sections": true,
   "sideBar": true,
   "skip_h1_title": false,
   "title_cell": "Table of Contents",
   "title_sidebar": "Contents",
   "toc_cell": false,
   "toc_position": {},
   "toc_section_display": true,
   "toc_window_display": false
  }
 },
 "nbformat": 4,
 "nbformat_minor": 5
}
