{
 "cells": [
  {
   "cell_type": "code",
   "execution_count": null,
   "metadata": {},
   "outputs": [
    {
     "name": "stdout",
     "output_type": "stream",
     "text": [
      " * Serving Flask app '__main__' (lazy loading)\n",
      " * Environment: production\n",
      "\u001b[31m   WARNING: This is a development server. Do not use it in a production deployment.\u001b[0m\n",
      "\u001b[2m   Use a production WSGI server instead.\u001b[0m\n",
      " * Debug mode: off\n"
     ]
    },
    {
     "name": "stderr",
     "output_type": "stream",
     "text": [
      " * Running on http://127.0.0.1:5000/ (Press CTRL+C to quit)\n",
      "127.0.0.1 - - [22/Feb/2022 23:04:02] \"GET / HTTP/1.1\" 200 -\n",
      "127.0.0.1 - - [22/Feb/2022 23:04:02] \"\u001b[36mGET /static/css/bootstrap.min.css HTTP/1.1\u001b[0m\" 304 -\n",
      "127.0.0.1 - - [22/Feb/2022 23:04:02] \"\u001b[36mGET /static/css/jumbotron-narrow.css HTTP/1.1\u001b[0m\" 304 -\n",
      "[2022-02-22 23:04:03,856] ERROR in app: Exception on /predict/ [POST]\n",
      "Traceback (most recent call last):\n",
      "  File \"/Users/kevinduranty/miniforge3/envs/p8/lib/python3.8/site-packages/flask/app.py\", line 2073, in wsgi_app\n",
      "    response = self.full_dispatch_request()\n",
      "  File \"/Users/kevinduranty/miniforge3/envs/p8/lib/python3.8/site-packages/flask/app.py\", line 1518, in full_dispatch_request\n",
      "    rv = self.handle_user_exception(e)\n",
      "  File \"/Users/kevinduranty/miniforge3/envs/p8/lib/python3.8/site-packages/flask/app.py\", line 1516, in full_dispatch_request\n",
      "    rv = self.dispatch_request()\n",
      "  File \"/Users/kevinduranty/miniforge3/envs/p8/lib/python3.8/site-packages/flask/app.py\", line 1502, in dispatch_request\n",
      "    return self.ensure_sync(self.view_functions[rule.endpoint])(**req.view_args)\n",
      "  File \"/var/folders/pd/d9xkkvws5r5f_x34lthx34ph0000gn/T/ipykernel_33230/2643602751.py\", line 28, in result\n",
      "    if request.method == 'POST' & request.form['name_img'] !='':\n",
      "TypeError: unsupported operand type(s) for &: 'str' and 'str'\n",
      "127.0.0.1 - - [22/Feb/2022 23:04:03] \"\u001b[35m\u001b[1mPOST /predict/ HTTP/1.1\u001b[0m\" 500 -\n"
     ]
    }
   ],
   "source": [
    "from flask import Flask, render_template, request\n",
    "from tensorflow.keras.models import load_model\n",
    "import matplotlib.pyplot as plt\n",
    "import numpy as np\n",
    "import requests\n",
    "import cv2\n",
    "\n",
    "\n",
    "model = load_model('../my_vgg_unet/')\n",
    "app = Flask(__name__)\n",
    "\n",
    "\n",
    "def save_pred(path):\n",
    "    img = cv2.imread(f'../data/{path}_leftImg8bit.png')\n",
    "    plt.imsave('./static/origine.png',img)\n",
    "    y = model.predict(np.array([img]))[0]\n",
    "    y = np.array([i.argmax() for i in y])*100\n",
    "    plt.imsave('./static/pred.png',y.reshape((512,1024)))\n",
    "\n",
    "\n",
    "@app.route('/', methods=['GET'])\n",
    "def california_index():\n",
    "    return render_template(\"index.html\")\n",
    "\n",
    "\n",
    "@app.route('/predict/', methods=['POST'])\n",
    "def result():\n",
    "    if request.method == 'POST':\n",
    "                 name_img = request.form['name_img']\n",
    "                 save_pred(name_img)\n",
    "        \n",
    "    return render_template(\"prediction.html\", name_img=name_img)\n",
    "\n",
    "if __name__ == '__main__':\n",
    "    app.run()"
   ]
  },
  {
   "cell_type": "code",
   "execution_count": null,
   "metadata": {},
   "outputs": [],
   "source": []
  }
 ],
 "metadata": {
  "kernelspec": {
   "display_name": "Python 3 (ipykernel)",
   "language": "python",
   "name": "python3"
  },
  "language_info": {
   "codemirror_mode": {
    "name": "ipython",
    "version": 3
   },
   "file_extension": ".py",
   "mimetype": "text/x-python",
   "name": "python",
   "nbconvert_exporter": "python",
   "pygments_lexer": "ipython3",
   "version": "3.8.12"
  },
  "toc": {
   "base_numbering": 1,
   "nav_menu": {},
   "number_sections": true,
   "sideBar": true,
   "skip_h1_title": false,
   "title_cell": "Table of Contents",
   "title_sidebar": "Contents",
   "toc_cell": false,
   "toc_position": {},
   "toc_section_display": true,
   "toc_window_display": false
  }
 },
 "nbformat": 4,
 "nbformat_minor": 2
}
